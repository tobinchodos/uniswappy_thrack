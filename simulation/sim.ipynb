{
 "cells": [
  {
   "cell_type": "code",
   "execution_count": 4,
   "id": "c03e6e40",
   "metadata": {},
   "outputs": [],
   "source": [
    "import os\n",
    "import copy\n",
    "import numpy as np\n",
    "import pandas as pd\n",
    "import time\n",
    "import datetime\n",
    "import math\n",
    "import matplotlib.pyplot as plt\n",
    "import uniswappy\n"
   ]
  },
  {
   "cell_type": "code",
   "execution_count": 3,
   "id": "cc82e5be",
   "metadata": {},
   "outputs": [
    {
     "name": "stdout",
     "output_type": "stream",
     "text": [
      "Obtaining file:///Users/ashertobinchodos/Documents/uniswappy_thrack\n"
     ]
    },
    {
     "name": "stderr",
     "output_type": "stream",
     "text": [
      "\u001b[31mERROR: file:///Users/ashertobinchodos/Documents/uniswappy_thrack does not appear to be a Python project: neither 'setup.py' nor 'pyproject.toml' found.\u001b[0m\u001b[31m\n",
      "\u001b[0m"
     ]
    },
    {
     "ename": "CalledProcessError",
     "evalue": "Command '['/opt/anaconda3/envs/unsiwappy/bin/python', '-m', 'pip', 'install', '-e', '/Users/ashertobinchodos/Documents/uniswappy_thrack']' returned non-zero exit status 1.",
     "output_type": "error",
     "traceback": [
      "\u001b[31m---------------------------------------------------------------------------\u001b[39m",
      "\u001b[31mCalledProcessError\u001b[39m                        Traceback (most recent call last)",
      "\u001b[36mCell\u001b[39m\u001b[36m \u001b[39m\u001b[32mIn[3]\u001b[39m\u001b[32m, line 4\u001b[39m\n\u001b[32m      1\u001b[39m \u001b[38;5;28;01mimport\u001b[39;00m\u001b[38;5;250m \u001b[39m\u001b[34;01msys\u001b[39;00m\n\u001b[32m      2\u001b[39m \u001b[38;5;28;01mimport\u001b[39;00m\u001b[38;5;250m \u001b[39m\u001b[34;01msubprocess\u001b[39;00m\n\u001b[32m----> \u001b[39m\u001b[32m4\u001b[39m \u001b[43msubprocess\u001b[49m\u001b[43m.\u001b[49m\u001b[43mcheck_call\u001b[49m\u001b[43m(\u001b[49m\u001b[43m[\u001b[49m\u001b[43msys\u001b[49m\u001b[43m.\u001b[49m\u001b[43mexecutable\u001b[49m\u001b[43m,\u001b[49m\u001b[43m \u001b[49m\u001b[33;43m\"\u001b[39;49m\u001b[33;43m-m\u001b[39;49m\u001b[33;43m\"\u001b[39;49m\u001b[43m,\u001b[49m\u001b[43m \u001b[49m\u001b[33;43m\"\u001b[39;49m\u001b[33;43mpip\u001b[39;49m\u001b[33;43m\"\u001b[39;49m\u001b[43m,\u001b[49m\u001b[43m \u001b[49m\u001b[33;43m\"\u001b[39;49m\u001b[33;43minstall\u001b[39;49m\u001b[33;43m\"\u001b[39;49m\u001b[43m,\u001b[49m\u001b[43m \u001b[49m\u001b[33;43m\"\u001b[39;49m\u001b[33;43m-e\u001b[39;49m\u001b[33;43m\"\u001b[39;49m\u001b[43m,\u001b[49m\u001b[43m \u001b[49m\u001b[33;43m\"\u001b[39;49m\u001b[33;43m/Users/ashertobinchodos/Documents/uniswappy_thrack\u001b[39;49m\u001b[33;43m\"\u001b[39;49m\u001b[43m]\u001b[49m\u001b[43m)\u001b[49m\n",
      "\u001b[36mFile \u001b[39m\u001b[32m/opt/anaconda3/envs/unsiwappy/lib/python3.12/subprocess.py:413\u001b[39m, in \u001b[36mcheck_call\u001b[39m\u001b[34m(*popenargs, **kwargs)\u001b[39m\n\u001b[32m    411\u001b[39m     \u001b[38;5;28;01mif\u001b[39;00m cmd \u001b[38;5;129;01mis\u001b[39;00m \u001b[38;5;28;01mNone\u001b[39;00m:\n\u001b[32m    412\u001b[39m         cmd = popenargs[\u001b[32m0\u001b[39m]\n\u001b[32m--> \u001b[39m\u001b[32m413\u001b[39m     \u001b[38;5;28;01mraise\u001b[39;00m CalledProcessError(retcode, cmd)\n\u001b[32m    414\u001b[39m \u001b[38;5;28;01mreturn\u001b[39;00m \u001b[32m0\u001b[39m\n",
      "\u001b[31mCalledProcessError\u001b[39m: Command '['/opt/anaconda3/envs/unsiwappy/bin/python', '-m', 'pip', 'install', '-e', '/Users/ashertobinchodos/Documents/uniswappy_thrack']' returned non-zero exit status 1."
     ]
    }
   ],
   "source": [
    "import sys\n",
    "import subprocess\n",
    "\n",
    "subprocess.check_call([sys.executable, \"-m\", \"pip\", \"install\", \"-e\", \"/Users/ashertobinchodos/Documents/uniswappy_thrack\"])\n"
   ]
  },
  {
   "cell_type": "code",
   "execution_count": 8,
   "id": "48b3aa06",
   "metadata": {},
   "outputs": [
    {
     "name": "stdout",
     "output_type": "stream",
     "text": [
      "/opt/anaconda3/envs/unsiwappy/bin/python\n"
     ]
    }
   ],
   "source": [
    "import sys\n",
    "print(sys.executable)\n"
   ]
  },
  {
   "cell_type": "code",
   "execution_count": 4,
   "id": "76684d71",
   "metadata": {},
   "outputs": [
    {
     "ename": "FileNotFoundError",
     "evalue": "[Errno 2] No such file or directory: 'weth_dai_events.csv'",
     "output_type": "error",
     "traceback": [
      "\u001b[31m---------------------------------------------------------------------------\u001b[39m",
      "\u001b[31mFileNotFoundError\u001b[39m                         Traceback (most recent call last)",
      "\u001b[36mCell\u001b[39m\u001b[36m \u001b[39m\u001b[32mIn[4]\u001b[39m\u001b[32m, line 1\u001b[39m\n\u001b[32m----> \u001b[39m\u001b[32m1\u001b[39m df = \u001b[43mpd\u001b[49m\u001b[43m.\u001b[49m\u001b[43mread_csv\u001b[49m\u001b[43m(\u001b[49m\u001b[33;43m'\u001b[39;49m\u001b[33;43mweth_dai_events.csv\u001b[39;49m\u001b[33;43m'\u001b[39;49m\u001b[43m)\u001b[49m   \n\u001b[32m      3\u001b[39m init_mint = df[df.event == \u001b[33m'\u001b[39m\u001b[33mmint\u001b[39m\u001b[33m'\u001b[39m].iloc[\u001b[32m0\u001b[39m]\n\u001b[32m      4\u001b[39m dai_amount = \u001b[38;5;28mint\u001b[39m(init_mint[\u001b[33m'\u001b[39m\u001b[33mamount0\u001b[39m\u001b[33m'\u001b[39m])\n",
      "\u001b[36mFile \u001b[39m\u001b[32m/opt/anaconda3/envs/unsiwappy/lib/python3.12/site-packages/pandas/io/parsers/readers.py:1026\u001b[39m, in \u001b[36mread_csv\u001b[39m\u001b[34m(filepath_or_buffer, sep, delimiter, header, names, index_col, usecols, dtype, engine, converters, true_values, false_values, skipinitialspace, skiprows, skipfooter, nrows, na_values, keep_default_na, na_filter, verbose, skip_blank_lines, parse_dates, infer_datetime_format, keep_date_col, date_parser, date_format, dayfirst, cache_dates, iterator, chunksize, compression, thousands, decimal, lineterminator, quotechar, quoting, doublequote, escapechar, comment, encoding, encoding_errors, dialect, on_bad_lines, delim_whitespace, low_memory, memory_map, float_precision, storage_options, dtype_backend)\u001b[39m\n\u001b[32m   1013\u001b[39m kwds_defaults = _refine_defaults_read(\n\u001b[32m   1014\u001b[39m     dialect,\n\u001b[32m   1015\u001b[39m     delimiter,\n\u001b[32m   (...)\u001b[39m\u001b[32m   1022\u001b[39m     dtype_backend=dtype_backend,\n\u001b[32m   1023\u001b[39m )\n\u001b[32m   1024\u001b[39m kwds.update(kwds_defaults)\n\u001b[32m-> \u001b[39m\u001b[32m1026\u001b[39m \u001b[38;5;28;01mreturn\u001b[39;00m \u001b[43m_read\u001b[49m\u001b[43m(\u001b[49m\u001b[43mfilepath_or_buffer\u001b[49m\u001b[43m,\u001b[49m\u001b[43m \u001b[49m\u001b[43mkwds\u001b[49m\u001b[43m)\u001b[49m\n",
      "\u001b[36mFile \u001b[39m\u001b[32m/opt/anaconda3/envs/unsiwappy/lib/python3.12/site-packages/pandas/io/parsers/readers.py:620\u001b[39m, in \u001b[36m_read\u001b[39m\u001b[34m(filepath_or_buffer, kwds)\u001b[39m\n\u001b[32m    617\u001b[39m _validate_names(kwds.get(\u001b[33m\"\u001b[39m\u001b[33mnames\u001b[39m\u001b[33m\"\u001b[39m, \u001b[38;5;28;01mNone\u001b[39;00m))\n\u001b[32m    619\u001b[39m \u001b[38;5;66;03m# Create the parser.\u001b[39;00m\n\u001b[32m--> \u001b[39m\u001b[32m620\u001b[39m parser = \u001b[43mTextFileReader\u001b[49m\u001b[43m(\u001b[49m\u001b[43mfilepath_or_buffer\u001b[49m\u001b[43m,\u001b[49m\u001b[43m \u001b[49m\u001b[43m*\u001b[49m\u001b[43m*\u001b[49m\u001b[43mkwds\u001b[49m\u001b[43m)\u001b[49m\n\u001b[32m    622\u001b[39m \u001b[38;5;28;01mif\u001b[39;00m chunksize \u001b[38;5;129;01mor\u001b[39;00m iterator:\n\u001b[32m    623\u001b[39m     \u001b[38;5;28;01mreturn\u001b[39;00m parser\n",
      "\u001b[36mFile \u001b[39m\u001b[32m/opt/anaconda3/envs/unsiwappy/lib/python3.12/site-packages/pandas/io/parsers/readers.py:1620\u001b[39m, in \u001b[36mTextFileReader.__init__\u001b[39m\u001b[34m(self, f, engine, **kwds)\u001b[39m\n\u001b[32m   1617\u001b[39m     \u001b[38;5;28mself\u001b[39m.options[\u001b[33m\"\u001b[39m\u001b[33mhas_index_names\u001b[39m\u001b[33m\"\u001b[39m] = kwds[\u001b[33m\"\u001b[39m\u001b[33mhas_index_names\u001b[39m\u001b[33m\"\u001b[39m]\n\u001b[32m   1619\u001b[39m \u001b[38;5;28mself\u001b[39m.handles: IOHandles | \u001b[38;5;28;01mNone\u001b[39;00m = \u001b[38;5;28;01mNone\u001b[39;00m\n\u001b[32m-> \u001b[39m\u001b[32m1620\u001b[39m \u001b[38;5;28mself\u001b[39m._engine = \u001b[38;5;28;43mself\u001b[39;49m\u001b[43m.\u001b[49m\u001b[43m_make_engine\u001b[49m\u001b[43m(\u001b[49m\u001b[43mf\u001b[49m\u001b[43m,\u001b[49m\u001b[43m \u001b[49m\u001b[38;5;28;43mself\u001b[39;49m\u001b[43m.\u001b[49m\u001b[43mengine\u001b[49m\u001b[43m)\u001b[49m\n",
      "\u001b[36mFile \u001b[39m\u001b[32m/opt/anaconda3/envs/unsiwappy/lib/python3.12/site-packages/pandas/io/parsers/readers.py:1880\u001b[39m, in \u001b[36mTextFileReader._make_engine\u001b[39m\u001b[34m(self, f, engine)\u001b[39m\n\u001b[32m   1878\u001b[39m     \u001b[38;5;28;01mif\u001b[39;00m \u001b[33m\"\u001b[39m\u001b[33mb\u001b[39m\u001b[33m\"\u001b[39m \u001b[38;5;129;01mnot\u001b[39;00m \u001b[38;5;129;01min\u001b[39;00m mode:\n\u001b[32m   1879\u001b[39m         mode += \u001b[33m\"\u001b[39m\u001b[33mb\u001b[39m\u001b[33m\"\u001b[39m\n\u001b[32m-> \u001b[39m\u001b[32m1880\u001b[39m \u001b[38;5;28mself\u001b[39m.handles = \u001b[43mget_handle\u001b[49m\u001b[43m(\u001b[49m\n\u001b[32m   1881\u001b[39m \u001b[43m    \u001b[49m\u001b[43mf\u001b[49m\u001b[43m,\u001b[49m\n\u001b[32m   1882\u001b[39m \u001b[43m    \u001b[49m\u001b[43mmode\u001b[49m\u001b[43m,\u001b[49m\n\u001b[32m   1883\u001b[39m \u001b[43m    \u001b[49m\u001b[43mencoding\u001b[49m\u001b[43m=\u001b[49m\u001b[38;5;28;43mself\u001b[39;49m\u001b[43m.\u001b[49m\u001b[43moptions\u001b[49m\u001b[43m.\u001b[49m\u001b[43mget\u001b[49m\u001b[43m(\u001b[49m\u001b[33;43m\"\u001b[39;49m\u001b[33;43mencoding\u001b[39;49m\u001b[33;43m\"\u001b[39;49m\u001b[43m,\u001b[49m\u001b[43m \u001b[49m\u001b[38;5;28;43;01mNone\u001b[39;49;00m\u001b[43m)\u001b[49m\u001b[43m,\u001b[49m\n\u001b[32m   1884\u001b[39m \u001b[43m    \u001b[49m\u001b[43mcompression\u001b[49m\u001b[43m=\u001b[49m\u001b[38;5;28;43mself\u001b[39;49m\u001b[43m.\u001b[49m\u001b[43moptions\u001b[49m\u001b[43m.\u001b[49m\u001b[43mget\u001b[49m\u001b[43m(\u001b[49m\u001b[33;43m\"\u001b[39;49m\u001b[33;43mcompression\u001b[39;49m\u001b[33;43m\"\u001b[39;49m\u001b[43m,\u001b[49m\u001b[43m \u001b[49m\u001b[38;5;28;43;01mNone\u001b[39;49;00m\u001b[43m)\u001b[49m\u001b[43m,\u001b[49m\n\u001b[32m   1885\u001b[39m \u001b[43m    \u001b[49m\u001b[43mmemory_map\u001b[49m\u001b[43m=\u001b[49m\u001b[38;5;28;43mself\u001b[39;49m\u001b[43m.\u001b[49m\u001b[43moptions\u001b[49m\u001b[43m.\u001b[49m\u001b[43mget\u001b[49m\u001b[43m(\u001b[49m\u001b[33;43m\"\u001b[39;49m\u001b[33;43mmemory_map\u001b[39;49m\u001b[33;43m\"\u001b[39;49m\u001b[43m,\u001b[49m\u001b[43m \u001b[49m\u001b[38;5;28;43;01mFalse\u001b[39;49;00m\u001b[43m)\u001b[49m\u001b[43m,\u001b[49m\n\u001b[32m   1886\u001b[39m \u001b[43m    \u001b[49m\u001b[43mis_text\u001b[49m\u001b[43m=\u001b[49m\u001b[43mis_text\u001b[49m\u001b[43m,\u001b[49m\n\u001b[32m   1887\u001b[39m \u001b[43m    \u001b[49m\u001b[43merrors\u001b[49m\u001b[43m=\u001b[49m\u001b[38;5;28;43mself\u001b[39;49m\u001b[43m.\u001b[49m\u001b[43moptions\u001b[49m\u001b[43m.\u001b[49m\u001b[43mget\u001b[49m\u001b[43m(\u001b[49m\u001b[33;43m\"\u001b[39;49m\u001b[33;43mencoding_errors\u001b[39;49m\u001b[33;43m\"\u001b[39;49m\u001b[43m,\u001b[49m\u001b[43m \u001b[49m\u001b[33;43m\"\u001b[39;49m\u001b[33;43mstrict\u001b[39;49m\u001b[33;43m\"\u001b[39;49m\u001b[43m)\u001b[49m\u001b[43m,\u001b[49m\n\u001b[32m   1888\u001b[39m \u001b[43m    \u001b[49m\u001b[43mstorage_options\u001b[49m\u001b[43m=\u001b[49m\u001b[38;5;28;43mself\u001b[39;49m\u001b[43m.\u001b[49m\u001b[43moptions\u001b[49m\u001b[43m.\u001b[49m\u001b[43mget\u001b[49m\u001b[43m(\u001b[49m\u001b[33;43m\"\u001b[39;49m\u001b[33;43mstorage_options\u001b[39;49m\u001b[33;43m\"\u001b[39;49m\u001b[43m,\u001b[49m\u001b[43m \u001b[49m\u001b[38;5;28;43;01mNone\u001b[39;49;00m\u001b[43m)\u001b[49m\u001b[43m,\u001b[49m\n\u001b[32m   1889\u001b[39m \u001b[43m\u001b[49m\u001b[43m)\u001b[49m\n\u001b[32m   1890\u001b[39m \u001b[38;5;28;01massert\u001b[39;00m \u001b[38;5;28mself\u001b[39m.handles \u001b[38;5;129;01mis\u001b[39;00m \u001b[38;5;129;01mnot\u001b[39;00m \u001b[38;5;28;01mNone\u001b[39;00m\n\u001b[32m   1891\u001b[39m f = \u001b[38;5;28mself\u001b[39m.handles.handle\n",
      "\u001b[36mFile \u001b[39m\u001b[32m/opt/anaconda3/envs/unsiwappy/lib/python3.12/site-packages/pandas/io/common.py:873\u001b[39m, in \u001b[36mget_handle\u001b[39m\u001b[34m(path_or_buf, mode, encoding, compression, memory_map, is_text, errors, storage_options)\u001b[39m\n\u001b[32m    868\u001b[39m \u001b[38;5;28;01melif\u001b[39;00m \u001b[38;5;28misinstance\u001b[39m(handle, \u001b[38;5;28mstr\u001b[39m):\n\u001b[32m    869\u001b[39m     \u001b[38;5;66;03m# Check whether the filename is to be opened in binary mode.\u001b[39;00m\n\u001b[32m    870\u001b[39m     \u001b[38;5;66;03m# Binary mode does not support 'encoding' and 'newline'.\u001b[39;00m\n\u001b[32m    871\u001b[39m     \u001b[38;5;28;01mif\u001b[39;00m ioargs.encoding \u001b[38;5;129;01mand\u001b[39;00m \u001b[33m\"\u001b[39m\u001b[33mb\u001b[39m\u001b[33m\"\u001b[39m \u001b[38;5;129;01mnot\u001b[39;00m \u001b[38;5;129;01min\u001b[39;00m ioargs.mode:\n\u001b[32m    872\u001b[39m         \u001b[38;5;66;03m# Encoding\u001b[39;00m\n\u001b[32m--> \u001b[39m\u001b[32m873\u001b[39m         handle = \u001b[38;5;28;43mopen\u001b[39;49m\u001b[43m(\u001b[49m\n\u001b[32m    874\u001b[39m \u001b[43m            \u001b[49m\u001b[43mhandle\u001b[49m\u001b[43m,\u001b[49m\n\u001b[32m    875\u001b[39m \u001b[43m            \u001b[49m\u001b[43mioargs\u001b[49m\u001b[43m.\u001b[49m\u001b[43mmode\u001b[49m\u001b[43m,\u001b[49m\n\u001b[32m    876\u001b[39m \u001b[43m            \u001b[49m\u001b[43mencoding\u001b[49m\u001b[43m=\u001b[49m\u001b[43mioargs\u001b[49m\u001b[43m.\u001b[49m\u001b[43mencoding\u001b[49m\u001b[43m,\u001b[49m\n\u001b[32m    877\u001b[39m \u001b[43m            \u001b[49m\u001b[43merrors\u001b[49m\u001b[43m=\u001b[49m\u001b[43merrors\u001b[49m\u001b[43m,\u001b[49m\n\u001b[32m    878\u001b[39m \u001b[43m            \u001b[49m\u001b[43mnewline\u001b[49m\u001b[43m=\u001b[49m\u001b[33;43m\"\u001b[39;49m\u001b[33;43m\"\u001b[39;49m\u001b[43m,\u001b[49m\n\u001b[32m    879\u001b[39m \u001b[43m        \u001b[49m\u001b[43m)\u001b[49m\n\u001b[32m    880\u001b[39m     \u001b[38;5;28;01melse\u001b[39;00m:\n\u001b[32m    881\u001b[39m         \u001b[38;5;66;03m# Binary mode\u001b[39;00m\n\u001b[32m    882\u001b[39m         handle = \u001b[38;5;28mopen\u001b[39m(handle, ioargs.mode)\n",
      "\u001b[31mFileNotFoundError\u001b[39m: [Errno 2] No such file or directory: 'weth_dai_events.csv'"
     ]
    }
   ],
   "source": [
    "df = pd.read_csv('weth_dai_events.csv')   \n",
    "\n",
    "init_mint = df[df.event == 'mint'].iloc[0]\n",
    "dai_amount = int(init_mint['amount0'])\n",
    "weth_amount = int(init_mint['amount1'])\n",
    "init_hash = init_mint['evt_tx_hash']\n",
    "\n",
    "df = df[df.evt_tx_hash != init_hash]"
   ]
  },
  {
   "cell_type": "code",
   "execution_count": null,
   "id": "9c989d58",
   "metadata": {},
   "outputs": [
    {
     "ename": "NameError",
     "evalue": "name 'UniV3Utils' is not defined",
     "output_type": "error",
     "traceback": [
      "\u001b[0;31m---------------------------------------------------------------------------\u001b[0m",
      "\u001b[0;31mNameError\u001b[0m                                 Traceback (most recent call last)",
      "Cell \u001b[0;32mIn[3], line 1\u001b[0m\n\u001b[0;32m----> 1\u001b[0m fee \u001b[38;5;241m=\u001b[39m \u001b[43mUniV3Utils\u001b[49m\u001b[38;5;241m.\u001b[39mFeeAmount\u001b[38;5;241m.\u001b[39mMEDIUM\n\u001b[1;32m      2\u001b[0m tick_spacing \u001b[38;5;241m=\u001b[39m UniV3Utils\u001b[38;5;241m.\u001b[39mTICK_SPACINGS[fee]\n\u001b[1;32m      3\u001b[0m lwr_tick \u001b[38;5;241m=\u001b[39m UniV3Utils\u001b[38;5;241m.\u001b[39mgetMinTick(tick_spacing)\n",
      "\u001b[0;31mNameError\u001b[0m: name 'UniV3Utils' is not defined"
     ]
    }
   ],
   "source": [
    "fee = UniV3Utils.FeeAmount.MEDIUM\n",
    "tick_spacing = UniV3Utils.TICK_SPACINGS[fee]\n",
    "lwr_tick = UniV3Utils.getMinTick(tick_spacing)\n",
    "upr_tick = UniV3Utils.getMaxTick(tick_spacing)\n",
    "\n",
    "dai = ERC20(\"DAI\", \"0x111\")\n",
    "weth = ERC20(\"WETH\", \"0x09\")\n",
    "exchg_data = UniswapExchangeData(tkn0 = weth, tkn1 = dai, symbol=\"LP\",\n",
    "                                   address=\"0x011\", version = 'V3',\n",
    "                                   tick_spacing = tick_spacing,\n",
    "                                   fee = fee)\n",
    "\n",
    "factory = UniswapFactory(\"SYS pool factory\", \"0x2\")\n",
    "lp = factory.deploy(exchg_data)\n",
    "lp.precision = 'GWEI'\n",
    "user_nm = 'user0'\n",
    "\n",
    "Join().apply(lp, user_nm, dai_amount, weth_amount, lwr_tick, upr_tick)\n",
    "\n",
    "lp.get_price(weth)"
   ]
  },
  {
   "cell_type": "code",
   "execution_count": null,
   "id": "cec13779",
   "metadata": {},
   "outputs": [
    {
     "data": {
      "text/html": [
       "<div>\n",
       "<style scoped>\n",
       "    .dataframe tbody tr th:only-of-type {\n",
       "        vertical-align: middle;\n",
       "    }\n",
       "\n",
       "    .dataframe tbody tr th {\n",
       "        vertical-align: top;\n",
       "    }\n",
       "\n",
       "    .dataframe thead th {\n",
       "        text-align: right;\n",
       "    }\n",
       "</style>\n",
       "<table border=\"1\" class=\"dataframe\">\n",
       "  <thead>\n",
       "    <tr style=\"text-align: right;\">\n",
       "      <th></th>\n",
       "      <th>event</th>\n",
       "      <th>source</th>\n",
       "      <th>evt_tx_hash</th>\n",
       "      <th>evt_index</th>\n",
       "      <th>evt_block_time</th>\n",
       "      <th>evt_block_number</th>\n",
       "      <th>amount_lp_token</th>\n",
       "      <th>amount0</th>\n",
       "      <th>amount1</th>\n",
       "      <th>tokenId</th>\n",
       "      <th>first_recipient</th>\n",
       "      <th>liquidity_provider</th>\n",
       "      <th>tickLower</th>\n",
       "      <th>tickUpper</th>\n",
       "      <th>pool_liquidity</th>\n",
       "      <th>trader</th>\n",
       "      <th>sqrtPriceX96</th>\n",
       "      <th>tick</th>\n",
       "    </tr>\n",
       "  </thead>\n",
       "  <tbody>\n",
       "    <tr>\n",
       "      <th>107</th>\n",
       "      <td>mint</td>\n",
       "      <td>pool-and-nfpm</td>\n",
       "      <td>0xc762a8dc7ce45ea04447b7b147b0c02e477785c7fcf7...</td>\n",
       "      <td>166</td>\n",
       "      <td>2021-05-05 18:57:01.000 UTC</td>\n",
       "      <td>12375982</td>\n",
       "      <td>84966387866432909482621</td>\n",
       "      <td>4999999999999999998980</td>\n",
       "      <td>2896992847310586746</td>\n",
       "      <td>239.0</td>\n",
       "      <td>0x98744b988bb5cfd7f8fab9556b744fc009a70ac8</td>\n",
       "      <td>0x98744b988bb5cfd7f8fab9556b744fc009a70ac8</td>\n",
       "      <td>-81360.0</td>\n",
       "      <td>-81300.0</td>\n",
       "      <td>NaN</td>\n",
       "      <td>0x</td>\n",
       "      <td>NaN</td>\n",
       "      <td>NaN</td>\n",
       "    </tr>\n",
       "    <tr>\n",
       "      <th>115</th>\n",
       "      <td>burn</td>\n",
       "      <td>pool-and-nfpm</td>\n",
       "      <td>0x180248db584ef3659f228aa5d65d0fdd6e0c46cf2b3f...</td>\n",
       "      <td>90</td>\n",
       "      <td>2021-05-05 19:12:46.000 UTC</td>\n",
       "      <td>12376045</td>\n",
       "      <td>-84966387866432909482621</td>\n",
       "      <td>-14870209017648091725660</td>\n",
       "      <td>0</td>\n",
       "      <td>239.0</td>\n",
       "      <td>0x98744b988bb5cfd7f8fab9556b744fc009a70ac8</td>\n",
       "      <td>0x98744b988bb5cfd7f8fab9556b744fc009a70ac8</td>\n",
       "      <td>-81360.0</td>\n",
       "      <td>-81300.0</td>\n",
       "      <td>NaN</td>\n",
       "      <td>0x</td>\n",
       "      <td>NaN</td>\n",
       "      <td>NaN</td>\n",
       "    </tr>\n",
       "    <tr>\n",
       "      <th>128</th>\n",
       "      <td>mint</td>\n",
       "      <td>pool-and-nfpm</td>\n",
       "      <td>0xea78c75b937760c6f96dc742c5bbf1906d81ced8531e...</td>\n",
       "      <td>55</td>\n",
       "      <td>2021-05-05 19:32:40.000 UTC</td>\n",
       "      <td>12376147</td>\n",
       "      <td>7431475210743243877524</td>\n",
       "      <td>21677328817142363787670</td>\n",
       "      <td>3000000000000000000</td>\n",
       "      <td>382.0</td>\n",
       "      <td>0x98744b988bb5cfd7f8fab9556b744fc009a70ac8</td>\n",
       "      <td>0x98744b988bb5cfd7f8fab9556b744fc009a70ac8</td>\n",
       "      <td>-81900.0</td>\n",
       "      <td>-80400.0</td>\n",
       "      <td>NaN</td>\n",
       "      <td>0x</td>\n",
       "      <td>NaN</td>\n",
       "      <td>NaN</td>\n",
       "    </tr>\n",
       "    <tr>\n",
       "      <th>2043</th>\n",
       "      <td>burn</td>\n",
       "      <td>pool-and-nfpm</td>\n",
       "      <td>0xc696f4905cf877c1ce383008166bbb3f556ca9e934b0...</td>\n",
       "      <td>220</td>\n",
       "      <td>2021-05-09 15:33:31.000 UTC</td>\n",
       "      <td>12400981</td>\n",
       "      <td>-7431475210743243877524</td>\n",
       "      <td>-32231321676793547962579</td>\n",
       "      <td>0</td>\n",
       "      <td>382.0</td>\n",
       "      <td>0x98744b988bb5cfd7f8fab9556b744fc009a70ac8</td>\n",
       "      <td>0x98744b988bb5cfd7f8fab9556b744fc009a70ac8</td>\n",
       "      <td>-81900.0</td>\n",
       "      <td>-80400.0</td>\n",
       "      <td>NaN</td>\n",
       "      <td>0x</td>\n",
       "      <td>NaN</td>\n",
       "      <td>NaN</td>\n",
       "    </tr>\n",
       "  </tbody>\n",
       "</table>\n",
       "</div>"
      ],
      "text/plain": [
       "     event         source                                        evt_tx_hash  \\\n",
       "107   mint  pool-and-nfpm  0xc762a8dc7ce45ea04447b7b147b0c02e477785c7fcf7...   \n",
       "115   burn  pool-and-nfpm  0x180248db584ef3659f228aa5d65d0fdd6e0c46cf2b3f...   \n",
       "128   mint  pool-and-nfpm  0xea78c75b937760c6f96dc742c5bbf1906d81ced8531e...   \n",
       "2043  burn  pool-and-nfpm  0xc696f4905cf877c1ce383008166bbb3f556ca9e934b0...   \n",
       "\n",
       "      evt_index               evt_block_time  evt_block_number  \\\n",
       "107         166  2021-05-05 18:57:01.000 UTC          12375982   \n",
       "115          90  2021-05-05 19:12:46.000 UTC          12376045   \n",
       "128          55  2021-05-05 19:32:40.000 UTC          12376147   \n",
       "2043        220  2021-05-09 15:33:31.000 UTC          12400981   \n",
       "\n",
       "               amount_lp_token                   amount0              amount1  \\\n",
       "107    84966387866432909482621    4999999999999999998980  2896992847310586746   \n",
       "115   -84966387866432909482621  -14870209017648091725660                    0   \n",
       "128     7431475210743243877524   21677328817142363787670  3000000000000000000   \n",
       "2043   -7431475210743243877524  -32231321676793547962579                    0   \n",
       "\n",
       "      tokenId                             first_recipient  \\\n",
       "107     239.0  0x98744b988bb5cfd7f8fab9556b744fc009a70ac8   \n",
       "115     239.0  0x98744b988bb5cfd7f8fab9556b744fc009a70ac8   \n",
       "128     382.0  0x98744b988bb5cfd7f8fab9556b744fc009a70ac8   \n",
       "2043    382.0  0x98744b988bb5cfd7f8fab9556b744fc009a70ac8   \n",
       "\n",
       "                              liquidity_provider  tickLower  tickUpper  \\\n",
       "107   0x98744b988bb5cfd7f8fab9556b744fc009a70ac8   -81360.0   -81300.0   \n",
       "115   0x98744b988bb5cfd7f8fab9556b744fc009a70ac8   -81360.0   -81300.0   \n",
       "128   0x98744b988bb5cfd7f8fab9556b744fc009a70ac8   -81900.0   -80400.0   \n",
       "2043  0x98744b988bb5cfd7f8fab9556b744fc009a70ac8   -81900.0   -80400.0   \n",
       "\n",
       "     pool_liquidity trader sqrtPriceX96  tick  \n",
       "107             NaN     0x          NaN   NaN  \n",
       "115             NaN     0x          NaN   NaN  \n",
       "128             NaN     0x          NaN   NaN  \n",
       "2043            NaN     0x          NaN   NaN  "
      ]
     },
     "execution_count": 4,
     "metadata": {},
     "output_type": "execute_result"
    }
   ],
   "source": [
    "df[df.liquidity_provider == '0x98744b988bb5cfd7f8fab9556b744fc009a70ac8']"
   ]
  },
  {
   "cell_type": "code",
   "execution_count": null,
   "id": "609849bc",
   "metadata": {},
   "outputs": [
    {
     "name": "stdout",
     "output_type": "stream",
     "text": [
      "event                                                              burn\n",
      "source                                                    pool-and-nfpm\n",
      "evt_tx_hash           0x6a3ba2478ce7bbba2abba8006cd43c9647c6ddb6b5a2...\n",
      "evt_index                                                           153\n",
      "evt_block_time                              2021-05-05 00:29:05.000 UTC\n",
      "evt_block_number                                               12370988\n",
      "amount_lp_token                                    -4648242676661787499\n",
      "amount0                                                               0\n",
      "amount1                                              -49999999999999999\n",
      "tokenId                                                            39.0\n",
      "first_recipient              0x0459b3fbf7c1840ee03a63ca4aa95de48322322e\n",
      "liquidity_provider           0x0459b3fbf7c1840ee03a63ca4aa95de48322322e\n",
      "tickLower                                                     -109260.0\n",
      "tickUpper                                                      -84000.0\n",
      "pool_liquidity                                                      NaN\n",
      "trader                                                               0x\n",
      "sqrtPriceX96                                                        NaN\n",
      "tick                                                                NaN\n",
      "Name: 9, dtype: object\n",
      "event                                                              burn\n",
      "source                                                    pool-and-nfpm\n",
      "evt_tx_hash           0x180248db584ef3659f228aa5d65d0fdd6e0c46cf2b3f...\n",
      "evt_index                                                            90\n",
      "evt_block_time                              2021-05-05 19:12:46.000 UTC\n",
      "evt_block_number                                               12376045\n",
      "amount_lp_token                                -84966387866432909482621\n",
      "amount0                                        -14870209017648091725660\n",
      "amount1                                                               0\n",
      "tokenId                                                           239.0\n",
      "first_recipient              0x98744b988bb5cfd7f8fab9556b744fc009a70ac8\n",
      "liquidity_provider           0x98744b988bb5cfd7f8fab9556b744fc009a70ac8\n",
      "tickLower                                                      -81360.0\n",
      "tickUpper                                                      -81300.0\n",
      "pool_liquidity                                                      NaN\n",
      "trader                                                               0x\n",
      "sqrtPriceX96                                                        NaN\n",
      "tick                                                                NaN\n",
      "Name: 115, dtype: object\n"
     ]
    },
    {
     "ename": "AssertionError",
     "evalue": "UniswapV3: INSUFFICIENT_SUBTRACT_AMOUNT",
     "output_type": "error",
     "traceback": [
      "\u001b[31m---------------------------------------------------------------------------\u001b[39m",
      "\u001b[31mAssertionError\u001b[39m                            Traceback (most recent call last)",
      "\u001b[36mCell\u001b[39m\u001b[36m \u001b[39m\u001b[32mIn[5]\u001b[39m\u001b[32m, line 12\u001b[39m\n\u001b[32m     10\u001b[39m \u001b[38;5;28;01mcase\u001b[39;00m \u001b[33m'\u001b[39m\u001b[33mburn\u001b[39m\u001b[33m'\u001b[39m:\n\u001b[32m     11\u001b[39m    \u001b[38;5;28mprint\u001b[39m(row)\n\u001b[32m---> \u001b[39m\u001b[32m12\u001b[39m    \u001b[43mlp\u001b[49m\u001b[43m.\u001b[49m\u001b[43mburn\u001b[49m\u001b[43m(\u001b[49m\n\u001b[32m     13\u001b[39m \u001b[43m        \u001b[49m\u001b[43mrow\u001b[49m\u001b[43m.\u001b[49m\u001b[43mliquidity_provider\u001b[49m\u001b[43m,\u001b[49m\n\u001b[32m     14\u001b[39m \u001b[43m        \u001b[49m\u001b[38;5;28;43mint\u001b[39;49m\u001b[43m(\u001b[49m\u001b[43mrow\u001b[49m\u001b[43m.\u001b[49m\u001b[43mtickLower\u001b[49m\u001b[43m)\u001b[49m\u001b[43m,\u001b[49m\n\u001b[32m     15\u001b[39m \u001b[43m        \u001b[49m\u001b[38;5;28;43mint\u001b[39;49m\u001b[43m(\u001b[49m\u001b[43mrow\u001b[49m\u001b[43m.\u001b[49m\u001b[43mtickUpper\u001b[49m\u001b[43m)\u001b[49m\u001b[43m,\u001b[49m\n\u001b[32m     16\u001b[39m \u001b[43m        \u001b[49m\u001b[38;5;28;43mabs\u001b[39;49m\u001b[43m(\u001b[49m\u001b[38;5;28;43mint\u001b[39;49m\u001b[43m(\u001b[49m\u001b[43mrow\u001b[49m\u001b[43m.\u001b[49m\u001b[43mamount_lp_token\u001b[49m\u001b[43m)\u001b[49m\u001b[43m)\u001b[49m\n\u001b[32m     17\u001b[39m \u001b[43m    \u001b[49m\u001b[43m)\u001b[49m\n\u001b[32m     19\u001b[39m \u001b[38;5;66;03m# case 'swap':\u001b[39;00m\n\u001b[32m     20\u001b[39m \u001b[38;5;66;03m#     if row.amount0 > 0:\u001b[39;00m\n\u001b[32m     21\u001b[39m \u001b[38;5;66;03m#         Swap().apply(lp, user_nm, weth, dai, int(row.amount0))\u001b[39;00m\n\u001b[32m     22\u001b[39m \u001b[38;5;66;03m#     else:\u001b[39;00m\n\u001b[32m     23\u001b[39m \u001b[38;5;66;03m#         Swap().apply(lp, user_nm, dai,_\u001b[39;00m\n",
      "\u001b[36mFile \u001b[39m\u001b[32m/opt/anaconda3/envs/liquidity_sim/lib/python3.13/site-packages/uniswappy/cpt/exchg/UniswapV3Exchange.py:383\u001b[39m, in \u001b[36mUniswapV3Exchange.burn\u001b[39m\u001b[34m(self, recipient, tickLower, tickUpper, amount)\u001b[39m\n\u001b[32m    379\u001b[39m \u001b[38;5;66;03m# Added extra recipient input variable to mimic msg.sender\u001b[39;00m\n\u001b[32m    380\u001b[39m (position, amount0Int, amount1Int) = \u001b[38;5;28mself\u001b[39m._modifyPosition(\n\u001b[32m    381\u001b[39m     ModifyPositionParams(recipient, tickLower, tickUpper, -amount)\n\u001b[32m    382\u001b[39m )\n\u001b[32m--> \u001b[39m\u001b[32m383\u001b[39m \u001b[38;5;28;43mself\u001b[39;49m\u001b[43m.\u001b[49m\u001b[43m_update_provider_liquidity\u001b[49m\u001b[43m(\u001b[49m\u001b[43mrecipient\u001b[49m\u001b[43m,\u001b[49m\u001b[43m \u001b[49m\u001b[43m-\u001b[49m\u001b[43mamount\u001b[49m\u001b[43m)\u001b[49m\n\u001b[32m    385\u001b[39m tokens = \u001b[38;5;28mself\u001b[39m.factory.token_from_exchange[\u001b[38;5;28mself\u001b[39m.name]\n\u001b[32m    386\u001b[39m tokens.get(\u001b[38;5;28mself\u001b[39m.token0).deposit(recipient, amount0Int)\n",
      "\u001b[36mFile \u001b[39m\u001b[32m/opt/anaconda3/envs/liquidity_sim/lib/python3.13/site-packages/uniswappy/cpt/exchg/UniswapV3Exchange.py:987\u001b[39m, in \u001b[36mUniswapV3Exchange._update_provider_liquidity\u001b[39m\u001b[34m(self, recipient, amount)\u001b[39m\n\u001b[32m    985\u001b[39m         \u001b[38;5;28mself\u001b[39m.liquidity_providers[recipient] = \u001b[38;5;28mself\u001b[39m.liquidity_providers[recipient] + amount\n\u001b[32m    986\u001b[39m     \u001b[38;5;28;01melse\u001b[39;00m:\n\u001b[32m--> \u001b[39m\u001b[32m987\u001b[39m         \u001b[38;5;28;01massert\u001b[39;00m \u001b[38;5;28;01mFalse\u001b[39;00m, \u001b[33m'\u001b[39m\u001b[33mUniswapV3: INSUFFICIENT_SUBTRACT_AMOUNT\u001b[39m\u001b[33m'\u001b[39m \n\u001b[32m    989\u001b[39m \u001b[38;5;28;01melif\u001b[39;00m((recipient \u001b[38;5;129;01mnot\u001b[39;00m \u001b[38;5;129;01min\u001b[39;00m \u001b[38;5;28mself\u001b[39m.liquidity_providers) \u001b[38;5;129;01mand\u001b[39;00m (amount > \u001b[32m0\u001b[39m)):  \n\u001b[32m    990\u001b[39m     \u001b[38;5;28mself\u001b[39m.liquidity_providers[recipient] = amount\n",
      "\u001b[31mAssertionError\u001b[39m: UniswapV3: INSUFFICIENT_SUBTRACT_AMOUNT"
     ]
    }
   ],
   "source": [
    "for i, row in df[:1000].iterrows():\n",
    "    match row.event:\n",
    "        case 'mint':\n",
    "            lp.mint(\n",
    "                row.liquidity_provider,\n",
    "                int(row.tickLower),\n",
    "                int(row.tickUpper),\n",
    "                int(row.amount_lp_token)\n",
    "            )\n",
    "        case 'burn':\n",
    "           print(row)\n",
    "           lp.burn(\n",
    "                row.liquidity_provider,\n",
    "                int(row.tickLower),\n",
    "                int(row.tickUpper),\n",
    "                abs(int(row.amount_lp_token))\n",
    "            )\n",
    "\n",
    "        # case 'swap':\n",
    "        #     if row.amount0 > 0:\n",
    "        #         Swap().apply(lp, user_nm, weth, dai, int(row.amount0))\n",
    "        #     else:\n",
    "        #         Swap().apply(lp, user_nm, dai,_\n"
   ]
  }
 ],
 "metadata": {
  "kernelspec": {
   "display_name": "unsiwappy",
   "language": "python",
   "name": "python3"
  },
  "language_info": {
   "codemirror_mode": {
    "name": "ipython",
    "version": 3
   },
   "file_extension": ".py",
   "mimetype": "text/x-python",
   "name": "python",
   "nbconvert_exporter": "python",
   "pygments_lexer": "ipython3",
   "version": "3.12.11"
  }
 },
 "nbformat": 4,
 "nbformat_minor": 5
}
