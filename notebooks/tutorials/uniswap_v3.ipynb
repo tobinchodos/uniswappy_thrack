{
 "cells": [
  {
   "cell_type": "markdown",
   "id": "8ee9b46b-75c6-4f77-b113-98766534604c",
   "metadata": {},
   "source": [
    "# Abstract Interface (V3)\n",
    "\n",
    "**Join()**: joins X and Y amounts to pool <br>\n",
    "**Swap()**: swaps X for Y (and vice verse) <br>\n",
    "**AddLiquidity()**: adds liquidity using only X or Y amounts <br>\n",
    "**RemoveLiquidity()**: removes liquidity using only X or Y amounts <br>\n",
    "**SwapDeposit()**: deposit desired token -> perform approx. 50% swap ->  perform approx. 50/50 deposit (exact percentages are calculated) <br>\n",
    "**WithdrawSwap()**: perform approx. 50/50 withdraw  -> swap remaining approx. 50% -> return desired token (exact percentages are calculated) <br>"
   ]
  },
  {
   "cell_type": "code",
   "execution_count": 1,
   "id": "440f92b5-615b-4550-83d6-a3e8c2875184",
   "metadata": {},
   "outputs": [],
   "source": [
    "from uniswappy import *"
   ]
  },
  {
   "cell_type": "code",
   "execution_count": 2,
   "id": "1e68a541-b6c0-4733-949d-d6ac123f2b72",
   "metadata": {},
   "outputs": [],
   "source": [
    "user_nm = 'user0'\n",
    "eth_amount = 1000\n",
    "tkn_amount = 100000\n",
    "\n",
    "fee = UniV3Utils.FeeAmount.MEDIUM\n",
    "tick_spacing = UniV3Utils.TICK_SPACINGS[fee]\n",
    "lwr_tick = UniV3Utils.getMinTick(tick_spacing)\n",
    "upr_tick = UniV3Utils.getMaxTick(tick_spacing)"
   ]
  },
  {
   "cell_type": "markdown",
   "id": "a8174d88-cd4e-43ff-8be0-bc43f678eb9b",
   "metadata": {},
   "source": [
    "### 📘 Join\n",
    "\n",
    "* **Class**: 📘 ``uniswappy.process.Join`` \n",
    "    * **Purpose**: Simplifies initial liquidity addition to Uniswap V2 pools.\n",
    "    * **Methods**:\n",
    "        * ``apply(pool, user: str, amount0: float, amount1: float)``\n",
    "            * **Parameters**:\n",
    "                * ``pool``: Pool instance (e.g., created via Primitive Interface).\n",
    "                * ``user``: User address.\n",
    "                * ``amount0``: Amount of token0.\n",
    "                * ``amount1``: Amount of token1.\n",
    "                * ``lwr_tick``: Lower tick of the position.\n",
    "                * ``upr_tick``: Upper tick of the position.\n",
    "    * **Output**: Liquidity added to the pool."
   ]
  },
  {
   "cell_type": "code",
   "execution_count": 3,
   "id": "1e5f4597-be69-4eec-ac30-ddbd812b3df0",
   "metadata": {},
   "outputs": [
    {
     "name": "stdout",
     "output_type": "stream",
     "text": [
      "Exchange ETH-TKN (LP)\n",
      "Real Reserves:   ETH = 1000.0, TKN = 100000.0\n",
      "Gross Liquidity: 10000.0 \n",
      "\n"
     ]
    }
   ],
   "source": [
    "eth = ERC20(\"ETH\", \"0x09\")\n",
    "tkn = ERC20(\"TKN\", \"0x111\")\n",
    "\n",
    "exchg_data = UniswapExchangeData(tkn0 = eth, tkn1 = tkn, symbol=\"LP\", \n",
    "                                   address=\"0x011\", version = 'V3', \n",
    "                                   tick_spacing = tick_spacing, \n",
    "                                   fee = fee)\n",
    "\n",
    "factory = UniswapFactory(\"ETH pool factory\", \"0x2\")\n",
    "lp = factory.deploy(exchg_data)\n",
    "\n",
    "out_v3 = Join().apply(lp, user_nm, eth_amount, tkn_amount, lwr_tick, upr_tick)\n",
    "lp.summary()"
   ]
  },
  {
   "cell_type": "markdown",
   "id": "4d1a3d37-a5b7-42c9-84f6-35a049bf4826",
   "metadata": {},
   "source": [
    "### 📘 Swap\n",
    "\n",
    "* **Class**: 📘 ``uniswappy.process.Swap`` \n",
    "    * **Purpose**: Facilitates token swaps on Uniswap V2 pools with slippage tolerance and deadline control.\n",
    "    * **Methods**:\n",
    "        * ``apply(pool, token_in: ERC20, user: str, amount_in: float)``\n",
    "            * **Parameters**:\n",
    "                * ``pool``: Pool instance to perform the swap on.\n",
    "                * ``user``: ERC20 token to swap from.\n",
    "                * ``user``: User address (string) executing the swap.\n",
    "                * ``amount_in``: Amount of `token_in` to swap.\n",
    "    * **Output**: Executes the swap from `token_in` to `token_out` for the user"
   ]
  },
  {
   "cell_type": "code",
   "execution_count": 4,
   "id": "b1d1f2c2-a3c5-40dc-956b-bc6390fd7789",
   "metadata": {},
   "outputs": [
    {
     "name": "stdout",
     "output_type": "stream",
     "text": [
      "Exchange ETH-TKN (LP)\n",
      "Real Reserves:   ETH = 1000.0, TKN = 100000.0\n",
      "Gross Liquidity: 10000.0 \n",
      "\n"
     ]
    },
    {
     "ename": "AssertionError",
     "evalue": "check me",
     "output_type": "error",
     "traceback": [
      "\u001b[31m---------------------------------------------------------------------------\u001b[39m",
      "\u001b[31mAssertionError\u001b[39m                            Traceback (most recent call last)",
      "\u001b[36mCell\u001b[39m\u001b[36m \u001b[39m\u001b[32mIn[4]\u001b[39m\u001b[32m, line 15\u001b[39m\n\u001b[32m     12\u001b[39m out_v3 = Join().apply(lp, user_nm, eth_amount, tkn_amount, lwr_tick, upr_tick)\n\u001b[32m     13\u001b[39m lp.summary()\n\u001b[32m---> \u001b[39m\u001b[32m15\u001b[39m out = \u001b[43mSwap\u001b[49m\u001b[43m(\u001b[49m\u001b[43m)\u001b[49m\u001b[43m.\u001b[49m\u001b[43mapply\u001b[49m\u001b[43m(\u001b[49m\u001b[43mlp\u001b[49m\u001b[43m,\u001b[49m\u001b[43m \u001b[49m\u001b[43mtkn\u001b[49m\u001b[43m,\u001b[49m\u001b[43m \u001b[49m\u001b[43muser_nm\u001b[49m\u001b[43m,\u001b[49m\u001b[43m \u001b[49m\u001b[32;43m1000\u001b[39;49m\u001b[43m)\u001b[49m\n\u001b[32m     16\u001b[39m lp.summary()\n",
      "\u001b[36mFile \u001b[39m\u001b[32m~/Documents/GitHub/uniswappy_thrack/build/__editable__.uniswappy-1.7.5-py3-none-any/uniswappy/process/swap/Swap.py:80\u001b[39m, in \u001b[36mSwap.apply\u001b[39m\u001b[34m(self, lp, token_in, user_nm, amount_in, sqrt_price_limit)\u001b[39m\n\u001b[32m     78\u001b[39m         amount_out_expected = \u001b[38;5;28mabs\u001b[39m(amount_out[\u001b[32m2\u001b[39m])\n\u001b[32m     79\u001b[39m     \u001b[38;5;28;01melse\u001b[39;00m: \n\u001b[32m---> \u001b[39m\u001b[32m80\u001b[39m         amount_out = \u001b[43mlp\u001b[49m\u001b[43m.\u001b[49m\u001b[43mswapExact1For0\u001b[49m\u001b[43m(\u001b[49m\u001b[43muser_nm\u001b[49m\u001b[43m,\u001b[49m\u001b[43m \u001b[49m\u001b[43mamount_in\u001b[49m\u001b[43m,\u001b[49m\u001b[43m \u001b[49m\u001b[43msqrt_price_limit\u001b[49m\u001b[43m)\u001b[49m\n\u001b[32m     81\u001b[39m         amount_out_expected = \u001b[38;5;28mabs\u001b[39m(amount_out[\u001b[32m1\u001b[39m])\n\u001b[32m     83\u001b[39m \u001b[38;5;28;01mreturn\u001b[39;00m amount_out_expected\n",
      "\u001b[36mFile \u001b[39m\u001b[32m~/Documents/GitHub/uniswappy_thrack/build/__editable__.uniswappy-1.7.5-py3-none-any/uniswappy/cpt/exchg/UniswapV3Exchange.py:529\u001b[39m, in \u001b[36mUniswapV3Exchange.swapExact1For0\u001b[39m\u001b[34m(self, recipient, amount, sqrtPriceLimit)\u001b[39m\n\u001b[32m    519\u001b[39m amount = (\n\u001b[32m    520\u001b[39m     amount\n\u001b[32m    521\u001b[39m     \u001b[38;5;28;01mif\u001b[39;00m \u001b[38;5;28mself\u001b[39m.precision == UniswapExchangeData.TYPE_GWEI\n\u001b[32m    522\u001b[39m     \u001b[38;5;28;01melse\u001b[39;00m UniV3Helper().dec2gwei(amount)\n\u001b[32m    523\u001b[39m )\n\u001b[32m    524\u001b[39m sqrtPriceLimitX96 = (\n\u001b[32m    525\u001b[39m     sqrtPriceLimit\n\u001b[32m    526\u001b[39m     \u001b[38;5;28;01mif\u001b[39;00m sqrtPriceLimit != \u001b[38;5;28;01mNone\u001b[39;00m\n\u001b[32m    527\u001b[39m     \u001b[38;5;28;01melse\u001b[39;00m UniV3Utils.getSqrtPriceLimitX96(UniV3Utils.TEST_TOKENS[\u001b[32m1\u001b[39m])\n\u001b[32m    528\u001b[39m )\n\u001b[32m--> \u001b[39m\u001b[32m529\u001b[39m \u001b[38;5;28;01mreturn\u001b[39;00m \u001b[38;5;28;43mself\u001b[39;49m\u001b[43m.\u001b[49m\u001b[43m_swap\u001b[49m\u001b[43m(\u001b[49m\n\u001b[32m    530\u001b[39m \u001b[43m    \u001b[49m\u001b[43mUniV3Utils\u001b[49m\u001b[43m.\u001b[49m\u001b[43mTEST_TOKENS\u001b[49m\u001b[43m[\u001b[49m\u001b[32;43m1\u001b[39;49m\u001b[43m]\u001b[49m\u001b[43m,\u001b[49m\u001b[43m \u001b[49m\u001b[43m[\u001b[49m\u001b[43mamount\u001b[49m\u001b[43m,\u001b[49m\u001b[43m \u001b[49m\u001b[32;43m0\u001b[39;49m\u001b[43m]\u001b[49m\u001b[43m,\u001b[49m\u001b[43m \u001b[49m\u001b[43mrecipient\u001b[49m\u001b[43m,\u001b[49m\u001b[43m \u001b[49m\u001b[43msqrtPriceLimitX96\u001b[49m\n\u001b[32m    531\u001b[39m \u001b[43m\u001b[49m\u001b[43m)\u001b[49m\n",
      "\u001b[36mFile \u001b[39m\u001b[32m~/Documents/GitHub/uniswappy_thrack/build/__editable__.uniswappy-1.7.5-py3-none-any/uniswappy/cpt/exchg/UniswapV3Exchange.py:1039\u001b[39m, in \u001b[36mUniswapV3Exchange._swap\u001b[39m\u001b[34m(self, inputToken, amounts, recipient, sqrtPriceLimitX96)\u001b[39m\n\u001b[32m   1037\u001b[39m \u001b[38;5;28;01mif\u001b[39;00m exactInput:\n\u001b[32m   1038\u001b[39m     checkInt128(amount)\n\u001b[32m-> \u001b[39m\u001b[32m1039\u001b[39m     \u001b[38;5;28;01mreturn\u001b[39;00m \u001b[38;5;28;43mself\u001b[39;49m\u001b[43m.\u001b[49m\u001b[43mswap\u001b[49m\u001b[43m(\u001b[49m\u001b[43mrecipient\u001b[49m\u001b[43m,\u001b[49m\u001b[43m \u001b[49m\u001b[38;5;28;43;01mFalse\u001b[39;49;00m\u001b[43m,\u001b[49m\u001b[43m \u001b[49m\u001b[43mamount\u001b[49m\u001b[43m,\u001b[49m\u001b[43m \u001b[49m\u001b[43msqrtPriceLimitX96\u001b[49m\u001b[43m)\u001b[49m\n\u001b[32m   1040\u001b[39m \u001b[38;5;28;01melse\u001b[39;00m:\n\u001b[32m   1041\u001b[39m     checkInt128(-amount)\n",
      "\u001b[36mFile \u001b[39m\u001b[32m~/Documents/GitHub/uniswappy_thrack/build/__editable__.uniswappy-1.7.5-py3-none-any/uniswappy/cpt/exchg/UniswapV3Exchange.py:625\u001b[39m, in \u001b[36mUniswapV3Exchange.swap\u001b[39m\u001b[34m(self, recipient, zeroForOne, amountSpecified, sqrtPriceLimitX96)\u001b[39m\n\u001b[32m    614\u001b[39m     \u001b[38;5;28;01massert\u001b[39;00m (\n\u001b[32m    615\u001b[39m         sqrtPriceLimitX96 > slot0Start.sqrtPriceX96\n\u001b[32m    616\u001b[39m         \u001b[38;5;129;01mand\u001b[39;00m sqrtPriceLimitX96 < TickMath.MAX_SQRT_RATIO\n\u001b[32m    617\u001b[39m     ), \u001b[33m\"\u001b[39m\u001b[33mUniswapV3: ONEFORZERO SPL\u001b[39m\u001b[33m\"\u001b[39m\n\u001b[32m    619\u001b[39m feeProtocol = (\n\u001b[32m    620\u001b[39m     (slot0Start.feeProtocol % \u001b[32m16\u001b[39m)\n\u001b[32m    621\u001b[39m     \u001b[38;5;28;01mif\u001b[39;00m zeroForOne\n\u001b[32m    622\u001b[39m     \u001b[38;5;28;01melse\u001b[39;00m (slot0Start.feeProtocol >> \u001b[32m4\u001b[39m)\n\u001b[32m    623\u001b[39m )\n\u001b[32m--> \u001b[39m\u001b[32m625\u001b[39m cache = SwapCache(feeProtocol, \u001b[38;5;28;43mself\u001b[39;49m\u001b[43m.\u001b[49m\u001b[43mget_liquidity_at_tick\u001b[49m\u001b[43m(\u001b[49m\u001b[43m)\u001b[49m)\n\u001b[32m    627\u001b[39m exactInput = amountSpecified > \u001b[32m0\u001b[39m\n\u001b[32m    629\u001b[39m state = SwapState(\n\u001b[32m    630\u001b[39m     amountSpecified,\n\u001b[32m    631\u001b[39m     \u001b[32m0\u001b[39m,\n\u001b[32m   (...)\u001b[39m\u001b[32m    637\u001b[39m     [],\n\u001b[32m    638\u001b[39m )\n",
      "\u001b[36mFile \u001b[39m\u001b[32m~/Documents/GitHub/uniswappy_thrack/build/__editable__.uniswappy-1.7.5-py3-none-any/uniswappy/cpt/exchg/UniswapV3Exchange.py:1271\u001b[39m, in \u001b[36mUniswapV3Exchange.get_liquidity_at_tick\u001b[39m\u001b[34m(self, tick)\u001b[39m\n\u001b[32m   1270\u001b[39m \u001b[38;5;28;01mdef\u001b[39;00m\u001b[38;5;250m \u001b[39m\u001b[34mget_liquidity_at_tick\u001b[39m(\u001b[38;5;28mself\u001b[39m, tick=\u001b[38;5;28;01mNone\u001b[39;00m):\n\u001b[32m-> \u001b[39m\u001b[32m1271\u001b[39m     \u001b[38;5;28;01massert\u001b[39;00m \u001b[38;5;28misinstance\u001b[39m(tick, \u001b[38;5;28mint\u001b[39m), \u001b[33m\"\u001b[39m\u001b[33mcheck me\u001b[39m\u001b[33m\"\u001b[39m\n\u001b[32m   1272\u001b[39m     tick = tick \u001b[38;5;28;01mif\u001b[39;00m tick \u001b[38;5;129;01mis\u001b[39;00m \u001b[38;5;129;01mnot\u001b[39;00m \u001b[38;5;28;01mNone\u001b[39;00m \u001b[38;5;28;01melse\u001b[39;00m \u001b[38;5;28mself\u001b[39m.slot0.tick\n\u001b[32m   1273\u001b[39m     liquidity_at_tick = \u001b[32m0\u001b[39m\n",
      "\u001b[31mAssertionError\u001b[39m: check me"
     ]
    }
   ],
   "source": [
    "eth = ERC20(\"ETH\", \"0x09\")\n",
    "tkn = ERC20(\"TKN\", \"0x111\")\n",
    "\n",
    "exchg_data = UniswapExchangeData(tkn0 = eth, tkn1 = tkn, symbol=\"LP\", \n",
    "                                   address=\"0x011\", version = 'V3', \n",
    "                                   tick_spacing = tick_spacing, \n",
    "                                   fee = fee)\n",
    "\n",
    "factory = UniswapFactory(\"ETH pool factory\", \"0x2\")\n",
    "lp = factory.deploy(exchg_data)\n",
    "\n",
    "out_v3 = Join().apply(lp, user_nm, eth_amount, tkn_amount, lwr_tick, upr_tick)\n",
    "lp.summary()\n",
    "\n",
    "out = Swap().apply(lp, tkn, user_nm, 1000)\n",
    "lp.summary()"
   ]
  },
  {
   "cell_type": "markdown",
   "id": "865bc323-fd14-42b5-9cfd-26d923a39f23",
   "metadata": {},
   "source": [
    "* tkn1 for tkn0"
   ]
  },
  {
   "cell_type": "code",
   "execution_count": null,
   "id": "901298ea-eb06-479d-b05f-711da5d80331",
   "metadata": {},
   "outputs": [
    {
     "name": "stdout",
     "output_type": "stream",
     "text": [
      "Exchange ETH-TKN (LP)\n",
      "Real Reserves:   ETH = 1000.0, TKN = 100000.0\n",
      "Gross Liquidity: 10000.0 \n",
      "\n",
      "Exchange ETH-TKN (LP)\n",
      "Real Reserves:   ETH = 1010.0, TKN = 99012.84196560294\n",
      "Gross Liquidity: 10000.0 \n",
      "\n"
     ]
    }
   ],
   "source": [
    "eth = ERC20(\"ETH\", \"0x09\")\n",
    "tkn = ERC20(\"TKN\", \"0x111\")\n",
    "\n",
    "exchg_data = UniswapExchangeData(tkn0 = eth, tkn1 = tkn, symbol=\"LP\", \n",
    "                                   address=\"0x011\", version = 'V3', \n",
    "                                   tick_spacing = tick_spacing, \n",
    "                                   fee = fee)\n",
    "\n",
    "factory = UniswapFactory(\"ETH pool factory\", \"0x2\")\n",
    "lp = factory.deploy(exchg_data)\n",
    "\n",
    "out_v3 = Join().apply(lp, user_nm, eth_amount, tkn_amount, lwr_tick, upr_tick)\n",
    "lp.summary()\n",
    "\n",
    "out = Swap().apply(lp, eth, user_nm, 10)\n",
    "lp.summary()"
   ]
  },
  {
   "cell_type": "markdown",
   "id": "1f6e9045-2637-4a29-8577-95d07ba9343e",
   "metadata": {},
   "source": [
    "### 📘 AddLiquidity\n",
    "\n",
    "* **Class**: 📘 ``uniswappy.process.AddLiquidity`` \n",
    "    * **Purpose**: Adds liquidity to existing Uniswap V2 pools, handling token amounts and liquidity tokens minting.\n",
    "    * **Methods**:\n",
    "        * ``apply(pool, token_in: ERC20, user: str, amount_in: float)``\n",
    "            * **Parameters**:\n",
    "                * ``pool``: Pool instance to perform the swap on.\n",
    "                * ``user``: ERC20 token to swap from.\n",
    "                * ``user``: User address (string) providing liquidity.\n",
    "                * ``amount_in``: Amount of `token_in` to add; the other token is calculated\n",
    "                * ``lwr_tick``: Lower tick of the position.\n",
    "                * ``upr_tick``: Upper tick of the position.\n",
    "    * **Output**: Adds the specified token amounts to the pool and mints liquidity tokens to the user."
   ]
  },
  {
   "cell_type": "code",
   "execution_count": null,
   "id": "1fd83152-c93e-491d-89bf-e780ba079dd5",
   "metadata": {},
   "outputs": [
    {
     "name": "stdout",
     "output_type": "stream",
     "text": [
      "Exchange ETH-TKN (LP)\n",
      "Real Reserves:   ETH = 1000.0, TKN = 100000.0\n",
      "Gross Liquidity: 10000.0 \n",
      "\n",
      "Exchange ETH-TKN (LP)\n",
      "Real Reserves:   ETH = 1010.0, TKN = 101000.0\n",
      "Gross Liquidity: 10100.0 \n",
      "\n"
     ]
    }
   ],
   "source": [
    "eth = ERC20(\"ETH\", \"0x09\")\n",
    "tkn = ERC20(\"TKN\", \"0x111\")\n",
    "\n",
    "exchg_data = UniswapExchangeData(tkn0 = eth, tkn1 = tkn, symbol=\"LP\", \n",
    "                                   address=\"0x011\", version = 'V3', \n",
    "                                   tick_spacing = tick_spacing, \n",
    "                                   fee = fee)\n",
    "\n",
    "factory = UniswapFactory(\"ETH pool factory\", \"0x2\")\n",
    "lp = factory.deploy(exchg_data)\n",
    "\n",
    "out_v3 = Join().apply(lp, user_nm, eth_amount, tkn_amount, lwr_tick, upr_tick)\n",
    "lp.summary()\n",
    "\n",
    "AddLiquidity().apply(lp, tkn, user_nm, 1000, lwr_tick, upr_tick)\n",
    "lp.summary()"
   ]
  },
  {
   "cell_type": "markdown",
   "id": "7667ae3b-93a9-4253-948e-27653c7852bf",
   "metadata": {},
   "source": [
    "* add tkn0 and determine tkn1"
   ]
  },
  {
   "cell_type": "code",
   "execution_count": null,
   "id": "f65c0db1-f95f-4274-930f-e2633066605c",
   "metadata": {},
   "outputs": [
    {
     "name": "stdout",
     "output_type": "stream",
     "text": [
      "Exchange ETH-TKN (LP)\n",
      "Real Reserves:   ETH = 1000.0, TKN = 100000.0\n",
      "Gross Liquidity: 10000.0 \n",
      "\n",
      "Exchange ETH-TKN (LP)\n",
      "Real Reserves:   ETH = 1100.0, TKN = 110000.0\n",
      "Gross Liquidity: 11000.0 \n",
      "\n"
     ]
    }
   ],
   "source": [
    "eth = ERC20(\"ETH\", \"0x09\")\n",
    "tkn = ERC20(\"TKN\", \"0x111\")\n",
    "\n",
    "exchg_data = UniswapExchangeData(tkn0 = eth, tkn1 = tkn, symbol=\"LP\", \n",
    "                                   address=\"0x011\", version = 'V3', \n",
    "                                   tick_spacing = tick_spacing, \n",
    "                                   fee = fee)\n",
    "\n",
    "factory = UniswapFactory(\"ETH pool factory\", \"0x2\")\n",
    "lp = factory.deploy(exchg_data)\n",
    "\n",
    "out_v3 = Join().apply(lp, user_nm, eth_amount, tkn_amount, lwr_tick, upr_tick)\n",
    "lp.summary()\n",
    "\n",
    "AddLiquidity().apply(lp, eth, user_nm, 100, lwr_tick, upr_tick)\n",
    "lp.summary()"
   ]
  },
  {
   "cell_type": "markdown",
   "id": "a05d867f-0e2b-43dc-9a22-23b650290c74",
   "metadata": {},
   "source": [
    "### 📘 RemoveLiquidity\n",
    "\n",
    "* **Class**: 📘 ``uniswappy.process.RemoveLiquidity`` \n",
    "    * **Purpose**: Removes liquidity from Uniswap V2 pools, returning underlying tokens to the user.\n",
    "    * **Methods**:\n",
    "        * ``apply(pool, token_out: ERC20, user: str, amount_out: float)``\n",
    "            * **Parameters**:\n",
    "                * ``pool``: Pool instance to perform the swap on.\n",
    "                * ``token_out``: ERC20 token to swap from.\n",
    "                * ``user``: User address (string) withdrawing liquidity.\n",
    "                * ``amount_out``: Amount of `token_out` to remove; the other token is calculated\n",
    "                * ``lwr_tick``: Lower tick of the position.\n",
    "                * ``upr_tick``: Upper tick of the position.\n",
    "    * **Output**: Removes the specified liquidity tokens and transfers the corresponding amounts of underlying tokens back to the user."
   ]
  },
  {
   "cell_type": "code",
   "execution_count": null,
   "id": "2300eb80-153d-4538-a6f8-dd34839f42c2",
   "metadata": {},
   "outputs": [
    {
     "name": "stdout",
     "output_type": "stream",
     "text": [
      "Exchange ETH-TKN (LP)\n",
      "Real Reserves:   ETH = 1000.0, TKN = 100000.0\n",
      "Gross Liquidity: 10000.0 \n",
      "\n",
      "Exchange ETH-TKN (LP)\n",
      "Real Reserves:   ETH = 990.0, TKN = 99000.0\n",
      "Gross Liquidity: 9900.0 \n",
      "\n"
     ]
    }
   ],
   "source": [
    "eth = ERC20(\"ETH\", \"0x09\")\n",
    "tkn = ERC20(\"TKN\", \"0x111\")\n",
    "\n",
    "exchg_data = UniswapExchangeData(tkn0 = eth, tkn1 = tkn, symbol=\"LP\", \n",
    "                                   address=\"0x011\", version = 'V3', \n",
    "                                   tick_spacing = tick_spacing, \n",
    "                                   fee = fee)\n",
    "\n",
    "factory = UniswapFactory(\"ETH pool factory\", \"0x2\")\n",
    "lp = factory.deploy(exchg_data)\n",
    "\n",
    "out_v3 = Join().apply(lp, user_nm, eth_amount, tkn_amount, lwr_tick, upr_tick)\n",
    "lp.summary()\n",
    "\n",
    "RemoveLiquidity().apply(lp, tkn, user_nm, 1000, lwr_tick, upr_tick)\n",
    "lp.summary()"
   ]
  },
  {
   "cell_type": "markdown",
   "id": "33e01ddc-4751-4db3-95c3-0f4b76286cdf",
   "metadata": {},
   "source": [
    "* remove tkn0 and determine tkn1"
   ]
  },
  {
   "cell_type": "code",
   "execution_count": null,
   "id": "5cdf6d7b-049d-42cc-b815-ba5978112c83",
   "metadata": {},
   "outputs": [
    {
     "name": "stdout",
     "output_type": "stream",
     "text": [
      "Exchange ETH-TKN (LP)\n",
      "Real Reserves:   ETH = 1000.0, TKN = 100000.0\n",
      "Gross Liquidity: 10000.0 \n",
      "\n",
      "Exchange ETH-TKN (LP)\n",
      "Real Reserves:   ETH = 990.0, TKN = 99000.0\n",
      "Gross Liquidity: 9900.0 \n",
      "\n"
     ]
    }
   ],
   "source": [
    "eth = ERC20(\"ETH\", \"0x09\")\n",
    "tkn = ERC20(\"TKN\", \"0x111\")\n",
    "\n",
    "exchg_data = UniswapExchangeData(tkn0 = eth, tkn1 = tkn, symbol=\"LP\", \n",
    "                                   address=\"0x011\", version = 'V3', \n",
    "                                   tick_spacing = tick_spacing, \n",
    "                                   fee = fee)\n",
    "\n",
    "factory = UniswapFactory(\"ETH pool factory\", \"0x2\")\n",
    "lp = factory.deploy(exchg_data)\n",
    "\n",
    "out_v3 = Join().apply(lp, user_nm, eth_amount, tkn_amount, lwr_tick, upr_tick)\n",
    "lp.summary()\n",
    "\n",
    "RemoveLiquidity().apply(lp, eth, user_nm, 10, lwr_tick, upr_tick)\n",
    "lp.summary()"
   ]
  },
  {
   "cell_type": "markdown",
   "id": "a244262b-a3d9-4096-9fdc-73d964c59c4d",
   "metadata": {},
   "source": [
    "### 📘 SwapDeposit\n",
    "\n",
    "* **Class**: 📘 ``uniswappy.process.SwapDeposit`` \n",
    "    * **Purpose**: Combines token swapping and liquidity deposit into a single operation on Uniswap V2 pools.\n",
    "    * **Methods**:\n",
    "        * ``apply(pool, token_in: ERC20, user: str, amount_in: float)``\n",
    "            * **Parameters**:\n",
    "                * `pool`: Pool instance from which liquidity will be removed.\n",
    "                * `token_in`: ERC20 object of the token to remove from.\n",
    "                * `user`: User address (string) withdrawing liquidity.\n",
    "                * `amount_in`: Amount of token to swap in.\n",
    "                * ``lwr_tick``: Lower tick of the position.\n",
    "                * ``upr_tick``: Upper tick of the position.\n",
    "    * **Output**: Executes the swap of `token_in` and deposits the specified amounts of token0 and token1 into the pool as liquidity for the user."
   ]
  },
  {
   "cell_type": "code",
   "execution_count": null,
   "id": "dd65eee3-b8d0-4b83-8c04-cf99ea55fcc4",
   "metadata": {},
   "outputs": [
    {
     "name": "stdout",
     "output_type": "stream",
     "text": [
      "Exchange ETH-TKN (LP)\n",
      "Real Reserves:   ETH = 1000.0, TKN = 100000.0\n",
      "Gross Liquidity: 10000.0 \n",
      "\n",
      "Exchange ETH-TKN (LP)\n",
      "Real Reserves:   ETH = 1000.0, TKN = 100100.00000001659\n",
      "Gross Liquidity: 10004.991244978852 \n",
      "\n"
     ]
    }
   ],
   "source": [
    "eth = ERC20(\"ETH\", \"0x09\")\n",
    "tkn = ERC20(\"TKN\", \"0x111\")\n",
    "\n",
    "exchg_data = UniswapExchangeData(tkn0 = eth, tkn1 = tkn, symbol=\"LP\", \n",
    "                                   address=\"0x011\", version = 'V3', \n",
    "                                   tick_spacing = tick_spacing, \n",
    "                                   fee = fee)\n",
    "\n",
    "factory = UniswapFactory(\"ETH pool factory\", \"0x2\")\n",
    "lp = factory.deploy(exchg_data)\n",
    "\n",
    "Join().apply(lp, user_nm, eth_amount, tkn_amount, lwr_tick, upr_tick)\n",
    "lp.summary()\n",
    "\n",
    "SwapDeposit().apply(lp, tkn, user_nm, 100, lwr_tick, upr_tick)\n",
    "lp.summary() "
   ]
  },
  {
   "cell_type": "markdown",
   "id": "ab3beefc-0392-4ea4-a6f2-6151eda3ea5e",
   "metadata": {},
   "source": [
    "* swap exact tkn0 for tkn1\n",
    "* deposit desired token -> perform 50% swap ->  perform 50/50 deposit"
   ]
  },
  {
   "cell_type": "code",
   "execution_count": null,
   "id": "e411ba09-3688-4998-94b4-c0453f4700d9",
   "metadata": {},
   "outputs": [
    {
     "name": "stdout",
     "output_type": "stream",
     "text": [
      "Exchange ETH-TKN (LP)\n",
      "Real Reserves:   ETH = 1000.0, TKN = 100000.0\n",
      "Gross Liquidity: 10000.0 \n",
      "\n",
      "Exchange ETH-TKN (LP)\n",
      "Real Reserves:   ETH = 1009.9999999867499, TKN = 100000.0\n",
      "Gross Liquidity: 10049.801066245287 \n",
      "\n"
     ]
    }
   ],
   "source": [
    "eth = ERC20(\"ETH\", \"0x09\")\n",
    "tkn = ERC20(\"TKN\", \"0x111\")\n",
    "\n",
    "exchg_data = UniswapExchangeData(tkn0 = eth, tkn1 = tkn, symbol=\"LP\", \n",
    "                                   address=\"0x011\", version = 'V3', \n",
    "                                   tick_spacing = tick_spacing, \n",
    "                                   fee = fee)\n",
    "\n",
    "factory = UniswapFactory(\"ETH pool factory\", \"0x2\")\n",
    "lp = factory.deploy(exchg_data)\n",
    "\n",
    "Join().apply(lp, user_nm, eth_amount, tkn_amount, lwr_tick, upr_tick)\n",
    "lp.summary()\n",
    "\n",
    "SwapDeposit().apply(lp, eth, user_nm, 10, lwr_tick, upr_tick)\n",
    "lp.summary() "
   ]
  },
  {
   "cell_type": "markdown",
   "id": "b28f8cfb-5073-4314-9341-17b30bde3886",
   "metadata": {},
   "source": [
    "### 📘 WithdrawSwap\n",
    "\n",
    "* **Class**: 📘 ``uniswappy.process.WithdrawSwap`` \n",
    "    * **Purpose**: Facilitates withdrawing liquidity from a Uniswap V2 pool and swapping the withdrawn tokens into a desired token.\n",
    "    * **Methods**:\n",
    "        * ``apply(pool, token_in: ERC20, user: str, amount_in: float)``\n",
    "            * **Parameters**:\n",
    "                * `pool`: Pool instance from which liquidity will be removed.\n",
    "                * `token_in`: ERC20 object of the token to remove from.\n",
    "                * `user`: User address (string) withdrawing liquidity.\n",
    "                * `amount_in`:Amount of token to swap out.\n",
    "                * ``lwr_tick``: Lower tick of the position.\n",
    "                * ``upr_tick``: Upper tick of the position.\n",
    "    * **Output**: Removes liquidity from the pool, swaps the underlying tokens to `token_out`, and transfers the resulting tokens to the user, respecting slippage and deadline constraints."
   ]
  },
  {
   "cell_type": "code",
   "execution_count": null,
   "id": "90fa05cd-f102-4ccc-bf7f-38cfb6d90fe6",
   "metadata": {},
   "outputs": [
    {
     "name": "stdout",
     "output_type": "stream",
     "text": [
      "Exchange ETH-TKN (LP)\n",
      "Real Reserves:   ETH = 1000.0, TKN = 100000.0\n",
      "Gross Liquidity: 10000.0 \n",
      "\n",
      "Exchange ETH-TKN (LP)\n",
      "Real Reserves:   ETH = 999.0000000000001, TKN = 100000.0\n",
      "Gross Liquidity: 9994.991239989282 \n",
      "\n"
     ]
    }
   ],
   "source": [
    "eth = ERC20(\"ETH\", \"0x09\")\n",
    "tkn = ERC20(\"TKN\", \"0x111\")\n",
    "\n",
    "exchg_data = UniswapExchangeData(tkn0 = eth, tkn1 = tkn, symbol=\"LP\", \n",
    "                                   address=\"0x011\", version = 'V3', \n",
    "                                   tick_spacing = tick_spacing, \n",
    "                                   fee = fee)\n",
    "\n",
    "factory = UniswapFactory(\"ETH pool factory\", \"0x2\")\n",
    "lp = factory.deploy(exchg_data)\n",
    "\n",
    "Join().apply(lp, user_nm, eth_amount, tkn_amount, lwr_tick, upr_tick)\n",
    "lp.summary()\n",
    "\n",
    "WithdrawSwap().apply(lp, eth, user_nm, 1, lwr_tick, upr_tick)\n",
    "lp.summary()"
   ]
  },
  {
   "cell_type": "markdown",
   "id": "2a60bf10-f474-4224-b02b-127dcd77b1d6",
   "metadata": {},
   "source": [
    "* withdraw exact tkn0\n",
    "* withdraw LP based upon expected amount of tkn"
   ]
  },
  {
   "cell_type": "code",
   "execution_count": null,
   "id": "e6f8a1eb-d1ea-45bd-a6fa-30f206f5c48b",
   "metadata": {},
   "outputs": [
    {
     "name": "stdout",
     "output_type": "stream",
     "text": [
      "Exchange ETH-TKN (LP)\n",
      "Real Reserves:   ETH = 1000.0, TKN = 100000.0\n",
      "Gross Liquidity: 10000.0 \n",
      "\n",
      "Exchange ETH-TKN (LP)\n",
      "Real Reserves:   ETH = 1000.0, TKN = 99900.00000000001\n",
      "Gross Liquidity: 9994.991239989282 \n",
      "\n"
     ]
    }
   ],
   "source": [
    "eth = ERC20(\"ETH\", \"0x09\")\n",
    "tkn = ERC20(\"TKN\", \"0x111\")\n",
    "\n",
    "exchg_data = UniswapExchangeData(tkn0 = eth, tkn1 = tkn, symbol=\"LP\", \n",
    "                                   address=\"0x011\", version = 'V3', \n",
    "                                   tick_spacing = tick_spacing, \n",
    "                                   fee = fee)\n",
    "\n",
    "factory = UniswapFactory(\"ETH pool factory\", \"0x2\")\n",
    "lp = factory.deploy(exchg_data)\n",
    "\n",
    "Join().apply(lp, user_nm, eth_amount, tkn_amount, lwr_tick, upr_tick)\n",
    "lp.summary()\n",
    "\n",
    "expected_amount_out = WithdrawSwap().apply(lp, tkn, user_nm, 100,lwr_tick, upr_tick)\n",
    "lp.summary()"
   ]
  }
 ],
 "metadata": {
  "kernelspec": {
   "display_name": "uniswappy_thrack_test",
   "language": "python",
   "name": "python3"
  },
  "language_info": {
   "codemirror_mode": {
    "name": "ipython",
    "version": 3
   },
   "file_extension": ".py",
   "mimetype": "text/x-python",
   "name": "python",
   "nbconvert_exporter": "python",
   "pygments_lexer": "ipython3",
   "version": "3.13.7"
  }
 },
 "nbformat": 4,
 "nbformat_minor": 5
}
